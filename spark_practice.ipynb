{
 "cells": [
  {
   "cell_type": "code",
   "execution_count": 1,
   "metadata": {},
   "outputs": [],
   "source": [
    "%%capture\n",
    "%pip install pyspark\n",
    "from pyspark.sql import SparkSession\n",
    "# You build a Spark Session that is later used to create a\n",
    "# Spark dataframe\n",
    "spark = SparkSession.builder.appName('Practice').getOrCreate()"
   ]
  },
  {
   "cell_type": "code",
   "execution_count": 2,
   "metadata": {},
   "outputs": [],
   "source": [
    "# Update FILE_PATHS in 'imports.py' with the paths to the PUMS\n",
    "# files before using this.\n",
    "from imports import FILE_PATHS\n",
    "files = FILE_PATHS\n",
    "df = spark.read.csv(files,header=True,inferSchema=True)\n",
    "\n",
    "# Current PySpark documentation says that you can input a path\n",
    "# to a folder to import all files in said folder, but that\n",
    "# seems to be outdated. I had to pass in a list of file paths\n",
    "# instead."
   ]
  },
  {
   "cell_type": "markdown",
   "metadata": {},
   "source": [
    "### Variables Used\n",
    "- Annual Wages (past 12 months) (WAGP)\n",
    "- Race: White, or other combination (used for 'Minority Status') (RACWHT)"
   ]
  },
  {
   "cell_type": "code",
   "execution_count": 3,
   "metadata": {},
   "outputs": [],
   "source": [
    "# To get mean value\n",
    "from pyspark.sql.functions import avg\n",
    "# To get median value\n",
    "from pyspark.sql.functions import percentile_approx "
   ]
  },
  {
   "cell_type": "code",
   "execution_count": 4,
   "metadata": {},
   "outputs": [],
   "source": [
    "wages = (df\n",
    "    .groupBy(df['ST'],df['RACWHT'])\n",
    "    .agg(\n",
    "        avg('WAGP').alias('avg_salary'),\n",
    "        percentile_approx(\"WAGP\", 0.5,accuracy=10000).alias('median')\n",
    "    )\n",
    "    .toPandas())"
   ]
  },
  {
   "cell_type": "code",
   "execution_count": 24,
   "metadata": {},
   "outputs": [],
   "source": [
    "# STATE_MAPS makes this more readable\n",
    "from imports import STATE_MAPS\n",
    "wages['ST'] = wages['ST'].replace(STATE_MAPS)\n",
    "\n",
    "wages['avg_salary'] = wages['avg_salary'].round(0)\n",
    "\n",
    "# Not elegant, but it works. Divides the minority income\n",
    "# ('RACWHT' == 0) by non-minority income ('RACWHT' == 1).\n",
    "def div_list(input):\n",
    "    return (input.loc[input['RACWHT']==0]['avg_salary'].values[0] / \n",
    "            input.loc[input['RACWHT']==1]['avg_salary'].values[0])\n",
    "\n",
    "# Minority's income as percent of non-minority.\n",
    "wages['discrepency'] = wages['ST'].apply(\n",
    "    lambda x: div_list(wages.loc[wages['ST'] == x]))\n",
    "wages = (wages\n",
    "    .sort_values(by=['discrepency','ST','avg_salary'],ascending=False)\n",
    "    .reset_index(drop=True))"
   ]
  },
  {
   "cell_type": "code",
   "execution_count": 25,
   "metadata": {},
   "outputs": [
    {
     "data": {
      "text/html": [
       "<div>\n",
       "<style scoped>\n",
       "    .dataframe tbody tr th:only-of-type {\n",
       "        vertical-align: middle;\n",
       "    }\n",
       "\n",
       "    .dataframe tbody tr th {\n",
       "        vertical-align: top;\n",
       "    }\n",
       "\n",
       "    .dataframe thead th {\n",
       "        text-align: right;\n",
       "    }\n",
       "</style>\n",
       "<table border=\"1\" class=\"dataframe\">\n",
       "  <thead>\n",
       "    <tr style=\"text-align: right;\">\n",
       "      <th></th>\n",
       "      <th>ST</th>\n",
       "      <th>RACWHT</th>\n",
       "      <th>avg_salary</th>\n",
       "      <th>median</th>\n",
       "      <th>discrepency</th>\n",
       "    </tr>\n",
       "  </thead>\n",
       "  <tbody>\n",
       "    <tr>\n",
       "      <th>0</th>\n",
       "      <td>New Hampshire</td>\n",
       "      <td>0</td>\n",
       "      <td>27839.0</td>\n",
       "      <td>13000</td>\n",
       "      <td>1.018587</td>\n",
       "    </tr>\n",
       "    <tr>\n",
       "      <th>1</th>\n",
       "      <td>New Hampshire</td>\n",
       "      <td>1</td>\n",
       "      <td>27331.0</td>\n",
       "      <td>13000</td>\n",
       "      <td>1.018587</td>\n",
       "    </tr>\n",
       "    <tr>\n",
       "      <th>2</th>\n",
       "      <td>West Virginia</td>\n",
       "      <td>1</td>\n",
       "      <td>16505.0</td>\n",
       "      <td>1700</td>\n",
       "      <td>0.955226</td>\n",
       "    </tr>\n",
       "    <tr>\n",
       "      <th>3</th>\n",
       "      <td>West Virginia</td>\n",
       "      <td>0</td>\n",
       "      <td>15766.0</td>\n",
       "      <td>2500</td>\n",
       "      <td>0.955226</td>\n",
       "    </tr>\n",
       "    <tr>\n",
       "      <th>4</th>\n",
       "      <td>Oregon</td>\n",
       "      <td>1</td>\n",
       "      <td>22143.0</td>\n",
       "      <td>7000</td>\n",
       "      <td>0.920697</td>\n",
       "    </tr>\n",
       "    <tr>\n",
       "      <th>5</th>\n",
       "      <td>Oregon</td>\n",
       "      <td>0</td>\n",
       "      <td>20387.0</td>\n",
       "      <td>10000</td>\n",
       "      <td>0.920697</td>\n",
       "    </tr>\n",
       "    <tr>\n",
       "      <th>6</th>\n",
       "      <td>Washington</td>\n",
       "      <td>1</td>\n",
       "      <td>26668.0</td>\n",
       "      <td>10400</td>\n",
       "      <td>0.879181</td>\n",
       "    </tr>\n",
       "    <tr>\n",
       "      <th>7</th>\n",
       "      <td>Washington</td>\n",
       "      <td>0</td>\n",
       "      <td>23446.0</td>\n",
       "      <td>12000</td>\n",
       "      <td>0.879181</td>\n",
       "    </tr>\n",
       "    <tr>\n",
       "      <th>8</th>\n",
       "      <td>Kentucky</td>\n",
       "      <td>1</td>\n",
       "      <td>20341.0</td>\n",
       "      <td>6000</td>\n",
       "      <td>0.877341</td>\n",
       "    </tr>\n",
       "    <tr>\n",
       "      <th>9</th>\n",
       "      <td>Kentucky</td>\n",
       "      <td>0</td>\n",
       "      <td>17846.0</td>\n",
       "      <td>6700</td>\n",
       "      <td>0.877341</td>\n",
       "    </tr>\n",
       "  </tbody>\n",
       "</table>\n",
       "</div>"
      ],
      "text/plain": [
       "              ST  RACWHT  avg_salary  median  discrepency\n",
       "0  New Hampshire       0     27839.0   13000     1.018587\n",
       "1  New Hampshire       1     27331.0   13000     1.018587\n",
       "2  West Virginia       1     16505.0    1700     0.955226\n",
       "3  West Virginia       0     15766.0    2500     0.955226\n",
       "4         Oregon       1     22143.0    7000     0.920697\n",
       "5         Oregon       0     20387.0   10000     0.920697\n",
       "6     Washington       1     26668.0   10400     0.879181\n",
       "7     Washington       0     23446.0   12000     0.879181\n",
       "8       Kentucky       1     20341.0    6000     0.877341\n",
       "9       Kentucky       0     17846.0    6700     0.877341"
      ]
     },
     "execution_count": 25,
     "metadata": {},
     "output_type": "execute_result"
    }
   ],
   "source": [
    "wages.head(10)"
   ]
  },
  {
   "cell_type": "code",
   "execution_count": 26,
   "metadata": {},
   "outputs": [
    {
     "data": {
      "text/html": [
       "<div>\n",
       "<style scoped>\n",
       "    .dataframe tbody tr th:only-of-type {\n",
       "        vertical-align: middle;\n",
       "    }\n",
       "\n",
       "    .dataframe tbody tr th {\n",
       "        vertical-align: top;\n",
       "    }\n",
       "\n",
       "    .dataframe thead th {\n",
       "        text-align: right;\n",
       "    }\n",
       "</style>\n",
       "<table border=\"1\" class=\"dataframe\">\n",
       "  <thead>\n",
       "    <tr style=\"text-align: right;\">\n",
       "      <th></th>\n",
       "      <th>ST</th>\n",
       "      <th>RACWHT</th>\n",
       "      <th>avg_salary</th>\n",
       "      <th>median</th>\n",
       "      <th>discrepency</th>\n",
       "    </tr>\n",
       "  </thead>\n",
       "  <tbody>\n",
       "    <tr>\n",
       "      <th>92</th>\n",
       "      <td>South Carolina</td>\n",
       "      <td>1</td>\n",
       "      <td>23131.0</td>\n",
       "      <td>8000</td>\n",
       "      <td>0.623968</td>\n",
       "    </tr>\n",
       "    <tr>\n",
       "      <th>93</th>\n",
       "      <td>South Carolina</td>\n",
       "      <td>0</td>\n",
       "      <td>14433.0</td>\n",
       "      <td>4500</td>\n",
       "      <td>0.623968</td>\n",
       "    </tr>\n",
       "    <tr>\n",
       "      <th>94</th>\n",
       "      <td>Louisiana</td>\n",
       "      <td>1</td>\n",
       "      <td>22771.0</td>\n",
       "      <td>7000</td>\n",
       "      <td>0.605068</td>\n",
       "    </tr>\n",
       "    <tr>\n",
       "      <th>95</th>\n",
       "      <td>Louisiana</td>\n",
       "      <td>0</td>\n",
       "      <td>13778.0</td>\n",
       "      <td>3000</td>\n",
       "      <td>0.605068</td>\n",
       "    </tr>\n",
       "    <tr>\n",
       "      <th>96</th>\n",
       "      <td>Mississippi</td>\n",
       "      <td>1</td>\n",
       "      <td>20988.0</td>\n",
       "      <td>5000</td>\n",
       "      <td>0.566085</td>\n",
       "    </tr>\n",
       "    <tr>\n",
       "      <th>97</th>\n",
       "      <td>Mississippi</td>\n",
       "      <td>0</td>\n",
       "      <td>11881.0</td>\n",
       "      <td>1300</td>\n",
       "      <td>0.566085</td>\n",
       "    </tr>\n",
       "    <tr>\n",
       "      <th>98</th>\n",
       "      <td>Alaska</td>\n",
       "      <td>1</td>\n",
       "      <td>29676.0</td>\n",
       "      <td>17700</td>\n",
       "      <td>0.534843</td>\n",
       "    </tr>\n",
       "    <tr>\n",
       "      <th>99</th>\n",
       "      <td>Alaska</td>\n",
       "      <td>0</td>\n",
       "      <td>15872.0</td>\n",
       "      <td>6400</td>\n",
       "      <td>0.534843</td>\n",
       "    </tr>\n",
       "    <tr>\n",
       "      <th>100</th>\n",
       "      <td>District of Columbia</td>\n",
       "      <td>1</td>\n",
       "      <td>60316.0</td>\n",
       "      <td>40000</td>\n",
       "      <td>0.377910</td>\n",
       "    </tr>\n",
       "    <tr>\n",
       "      <th>101</th>\n",
       "      <td>District of Columbia</td>\n",
       "      <td>0</td>\n",
       "      <td>22794.0</td>\n",
       "      <td>4000</td>\n",
       "      <td>0.377910</td>\n",
       "    </tr>\n",
       "  </tbody>\n",
       "</table>\n",
       "</div>"
      ],
      "text/plain": [
       "                       ST  RACWHT  avg_salary  median  discrepency\n",
       "92         South Carolina       1     23131.0    8000     0.623968\n",
       "93         South Carolina       0     14433.0    4500     0.623968\n",
       "94              Louisiana       1     22771.0    7000     0.605068\n",
       "95              Louisiana       0     13778.0    3000     0.605068\n",
       "96            Mississippi       1     20988.0    5000     0.566085\n",
       "97            Mississippi       0     11881.0    1300     0.566085\n",
       "98                 Alaska       1     29676.0   17700     0.534843\n",
       "99                 Alaska       0     15872.0    6400     0.534843\n",
       "100  District of Columbia       1     60316.0   40000     0.377910\n",
       "101  District of Columbia       0     22794.0    4000     0.377910"
      ]
     },
     "execution_count": 26,
     "metadata": {},
     "output_type": "execute_result"
    }
   ],
   "source": [
    "wages.tail(10)"
   ]
  },
  {
   "cell_type": "code",
   "execution_count": 27,
   "metadata": {},
   "outputs": [],
   "source": [
    "%%capture\n",
    "%pip install seaborn\n",
    "import seaborn as sns, matplotlib.pyplot as plt"
   ]
  },
  {
   "cell_type": "code",
   "execution_count": 36,
   "metadata": {},
   "outputs": [
    {
     "data": {
      "image/png": "[encoded data removed]",
      "text/plain": [
       "<Figure size 432x288 with 1 Axes>"
      ]
     },
     "metadata": {
      "needs_background": "light"
     },
     "output_type": "display_data"
    }
   ],
   "source": [
    "mean_plt = sns.barplot(x='ST',y='avg_salary',data=wages.head(10), hue='RACWHT').set(title='Mean Wages: Top 5')\n",
    "plt.ylabel('Average Salary')\n",
    "plt.xlabel('State')\n",
    "plt.xticks(rotation=45, ha=\"right\")\n",
    "plt.legend(labelcolor=['tab:blue','tab:orange'],title='Minority:',labels=['Yes','No'])\n",
    "plt.show()"
   ]
  },
  {
   "cell_type": "code",
   "execution_count": 35,
   "metadata": {},
   "outputs": [
    {
     "data": {
      "image/png": "[encoded data removed]",
      "text/plain": [
       "<Figure size 432x288 with 1 Axes>"
      ]
     },
     "metadata": {
      "needs_background": "light"
     },
     "output_type": "display_data"
    }
   ],
   "source": [
    "mean_plt = sns.barplot(x='ST',y='avg_salary',data=wages.tail(10), hue='RACWHT').set(title='Mean Wages: Bottom 5')\n",
    "plt.ylabel('Average Salary')\n",
    "plt.xlabel('State')\n",
    "plt.xticks(rotation=45, ha=\"right\")\n",
    "plt.legend(labelcolor=['tab:blue','tab:orange'],title='Minority:',labels=['Yes','No'])\n",
    "plt.show()"
   ]
  },
  {
   "cell_type": "code",
   "execution_count": 29,
   "metadata": {},
   "outputs": [
    {
     "data": {
      "image/png": "[encoded data removed]",
      "text/plain": [
       "<Figure size 432x288 with 1 Axes>"
      ]
     },
     "metadata": {
      "needs_background": "light"
     },
     "output_type": "display_data"
    }
   ],
   "source": [
    "# Median does not seem to be accurate at the moment\n",
    "median_plt = sns.barplot(x='ST',y='median',data=wages.head(10), hue='RACWHT').set(title='Median Wages')\n",
    "plt.ylabel('Median Salary')\n",
    "plt.xlabel('State')\n",
    "plt.legend(labelcolor=['tab:blue','tab:orange'],title='Minority:',labels=['Yes','No'],)\n",
    "plt.show()"
   ]
  }
 ],
 "metadata": {
  "interpreter": {
   "hash": "0f4edc6b0df042bd222e688c4ca60d9fd61be33111ddbab03640233823416510"
  },
  "kernelspec": {
   "display_name": "Python 3.10.4 ('Spark': venv)",
   "language": "python",
   "name": "python3"
  },
  "language_info": {
   "codemirror_mode": {
    "name": "ipython",
    "version": 3
   },
   "file_extension": ".py",
   "mimetype": "text/x-python",
   "name": "python",
   "nbconvert_exporter": "python",
   "pygments_lexer": "ipython3",
   "version": "3.10.4"
  },
  "orig_nbformat": 4
 },
 "nbformat": 4,
 "nbformat_minor": 2
}
