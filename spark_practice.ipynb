{
 "cells": [
  {
   "cell_type": "code",
   "execution_count": 2,
   "metadata": {},
   "outputs": [],
   "source": [
    "%%capture\n",
    "%pip install pyspark\n",
    "import pandas as pd\n",
    "# import pyspark\n",
    "from pyspark.sql import SparkSession"
   ]
  },
  {
   "cell_type": "code",
   "execution_count": 3,
   "metadata": {},
   "outputs": [],
   "source": [
    "spark = SparkSession.builder.appName('Practice').getOrCreate()"
   ]
  },
  {
   "cell_type": "code",
   "execution_count": 14,
   "metadata": {},
   "outputs": [],
   "source": [
    "# df = pd.read_csv('sss08pus_Idaho.csv')\n",
    "files = ['E:/Personal Projects/SQL Database Data/Data/sss08pusa.csv','E:/Personal Projects/SQL Database Data/Data/sss08pusb.csv','E:/Personal Projects/SQL Database Data/Data/sss08pusc.csv','E:/Personal Projects/SQL Database Data/Data/sss08pusd.csv']\n",
    "def get_dataframe():\n",
    "    df = spark.read.csv(files,header=True,inferSchema=True)\n",
    "    return df"
   ]
  },
  {
   "cell_type": "markdown",
   "metadata": {},
   "source": [
    "### Noteable Items\n",
    "- Yearly Food Stamp Recipient (FD), Yes/No\n",
    "- Bedrooms (BDS)\n",
    "- Unites in structure (BLD)\n",
    "- Electricity Monthly Cost (ELEP)\n",
    "- Condo Fee-Monthly amount (CONP)\n",
    "- Mobile home costs (yearly amount) (MHP)\n",
    "- Mortgage payment (monthly amount) (MRGP)\n",
    "- Mortgage status (MRGX)\n",
    "- Rooms (RMS)\n",
    "- Monthly Rent (RNTP)\n",
    "- Gross rent as a percentage of household income (GRPIP)\n",
    "- Household income (past 12 months) (HINCP)\n",
    "- Grade level attending (SCHG)\n",
    "- Educational attainment (SCHL)"
   ]
  },
  {
   "cell_type": "code",
   "execution_count": 15,
   "metadata": {},
   "outputs": [],
   "source": [
    "df = get_dataframe()"
   ]
  },
  {
   "cell_type": "code",
   "execution_count": null,
   "metadata": {},
   "outputs": [],
   "source": [
    "df.select('GRPIP').show(3)#.distinct().show(2)"
   ]
  },
  {
   "cell_type": "code",
   "execution_count": 19,
   "metadata": {},
   "outputs": [],
   "source": [
    "# HINCP\n",
    "# df['POBP']==16\n",
    "mean_wage = df[df['ST']<57].groupBy(df['ST']).mean('WAGP').\n",
    "# df.dtypes"
   ]
  },
  {
   "cell_type": "code",
   "execution_count": 21,
   "metadata": {},
   "outputs": [
    {
     "ename": "ValueError",
     "evalue": "Mixed type replacements are not supported",
     "output_type": "error",
     "traceback": [
      "\u001b[1;31m---------------------------------------------------------------------------\u001b[0m",
      "\u001b[1;31mValueError\u001b[0m                                Traceback (most recent call last)",
      "\u001b[1;32mc:\\Users\\Ben\\Desktop\\BYUI\\Spring 2022\\CSE_310_Applied_Programming\\Week 6-7\\spark_practice.ipynb Cell 8'\u001b[0m in \u001b[0;36m<cell line: 2>\u001b[1;34m()\u001b[0m\n\u001b[0;32m      <a href='vscode-notebook-cell:/c%3A/Users/Ben/Desktop/BYUI/Spring%202022/CSE_310_Applied_Programming/Week%206-7/spark_practice.ipynb#ch0000008?line=0'>1</a>\u001b[0m \u001b[39mfrom\u001b[39;00m \u001b[39mimports\u001b[39;00m \u001b[39mimport\u001b[39;00m STATE_MAPS\n\u001b[1;32m----> <a href='vscode-notebook-cell:/c%3A/Users/Ben/Desktop/BYUI/Spring%202022/CSE_310_Applied_Programming/Week%206-7/spark_practice.ipynb#ch0000008?line=1'>2</a>\u001b[0m mean_wage\u001b[39m.\u001b[39;49mreplace(STATE_MAPS)\u001b[39m.\u001b[39mshow()\n",
      "File \u001b[1;32mc:\\Users\\Ben\\Desktop\\BYUI\\Spring 2022\\CSE_310_Applied_Programming\\Week 6-7\\Spark\\lib\\site-packages\\pyspark\\sql\\dataframe.py:2246\u001b[0m, in \u001b[0;36mDataFrame.replace\u001b[1;34m(self, to_replace, value, subset)\u001b[0m\n\u001b[0;32m   <a href='file:///c%3A/Users/Ben/Desktop/BYUI/Spring%202022/CSE_310_Applied_Programming/Week%206-7/Spark/lib/site-packages/pyspark/sql/dataframe.py?line=2241'>2242</a>\u001b[0m \u001b[39m# Verify we were not passed in mixed type generics.\u001b[39;00m\n\u001b[0;32m   <a href='file:///c%3A/Users/Ben/Desktop/BYUI/Spring%202022/CSE_310_Applied_Programming/Week%206-7/Spark/lib/site-packages/pyspark/sql/dataframe.py?line=2242'>2243</a>\u001b[0m \u001b[39mif\u001b[39;00m \u001b[39mnot\u001b[39;00m \u001b[39many\u001b[39m(all_of_type(rep_dict\u001b[39m.\u001b[39mkeys())\n\u001b[0;32m   <a href='file:///c%3A/Users/Ben/Desktop/BYUI/Spring%202022/CSE_310_Applied_Programming/Week%206-7/Spark/lib/site-packages/pyspark/sql/dataframe.py?line=2243'>2244</a>\u001b[0m            \u001b[39mand\u001b[39;00m all_of_type(x \u001b[39mfor\u001b[39;00m x \u001b[39min\u001b[39;00m rep_dict\u001b[39m.\u001b[39mvalues() \u001b[39mif\u001b[39;00m x \u001b[39mis\u001b[39;00m \u001b[39mnot\u001b[39;00m \u001b[39mNone\u001b[39;00m)\n\u001b[0;32m   <a href='file:///c%3A/Users/Ben/Desktop/BYUI/Spring%202022/CSE_310_Applied_Programming/Week%206-7/Spark/lib/site-packages/pyspark/sql/dataframe.py?line=2244'>2245</a>\u001b[0m            \u001b[39mfor\u001b[39;00m all_of_type \u001b[39min\u001b[39;00m [all_of_bool, all_of_str, all_of_numeric]):\n\u001b[1;32m-> <a href='file:///c%3A/Users/Ben/Desktop/BYUI/Spring%202022/CSE_310_Applied_Programming/Week%206-7/Spark/lib/site-packages/pyspark/sql/dataframe.py?line=2245'>2246</a>\u001b[0m     \u001b[39mraise\u001b[39;00m \u001b[39mValueError\u001b[39;00m(\u001b[39m\"\u001b[39m\u001b[39mMixed type replacements are not supported\u001b[39m\u001b[39m\"\u001b[39m)\n\u001b[0;32m   <a href='file:///c%3A/Users/Ben/Desktop/BYUI/Spring%202022/CSE_310_Applied_Programming/Week%206-7/Spark/lib/site-packages/pyspark/sql/dataframe.py?line=2247'>2248</a>\u001b[0m \u001b[39mif\u001b[39;00m subset \u001b[39mis\u001b[39;00m \u001b[39mNone\u001b[39;00m:\n\u001b[0;32m   <a href='file:///c%3A/Users/Ben/Desktop/BYUI/Spring%202022/CSE_310_Applied_Programming/Week%206-7/Spark/lib/site-packages/pyspark/sql/dataframe.py?line=2248'>2249</a>\u001b[0m     \u001b[39mreturn\u001b[39;00m DataFrame(\u001b[39mself\u001b[39m\u001b[39m.\u001b[39m_jdf\u001b[39m.\u001b[39mna()\u001b[39m.\u001b[39mreplace(\u001b[39m'\u001b[39m\u001b[39m*\u001b[39m\u001b[39m'\u001b[39m, rep_dict), \u001b[39mself\u001b[39m\u001b[39m.\u001b[39msql_ctx)\n",
      "\u001b[1;31mValueError\u001b[0m: Mixed type replacements are not supported"
     ]
    }
   ],
   "source": [
    "from imports import STATE_MAPS\n",
    "mean_wage.replace(STATE_MAPS).show()"
   ]
  }
 ],
 "metadata": {
  "interpreter": {
   "hash": "0f4edc6b0df042bd222e688c4ca60d9fd61be33111ddbab03640233823416510"
  },
  "kernelspec": {
   "display_name": "Python 3.10.4 ('Spark': venv)",
   "language": "python",
   "name": "python3"
  },
  "language_info": {
   "codemirror_mode": {
    "name": "ipython",
    "version": 3
   },
   "file_extension": ".py",
   "mimetype": "text/x-python",
   "name": "python",
   "nbconvert_exporter": "python",
   "pygments_lexer": "ipython3",
   "version": "3.10.4"
  },
  "orig_nbformat": 4
 },
 "nbformat": 4,
 "nbformat_minor": 2
}
