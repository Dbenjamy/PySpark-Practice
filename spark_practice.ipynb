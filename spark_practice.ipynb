{
 "cells": [
  {
   "cell_type": "code",
   "execution_count": 49,
   "metadata": {},
   "outputs": [],
   "source": [
    "%%capture\n",
    "%pip install pyspark\n",
    "from pyspark.sql import SparkSession\n",
    "spark = SparkSession.builder.appName('Practice').getOrCreate()"
   ]
  },
  {
   "cell_type": "code",
   "execution_count": 50,
   "metadata": {},
   "outputs": [],
   "source": [
    "# Update FILE_PATHS in 'imports.py' with the paths to the PUMS files before using this.\n",
    "from imports import FILE_PATHS\n",
    "files = FILE_PATHS\n",
    "def get_dataframe():\n",
    "    df = spark.read.csv(files,header=True,inferSchema=True)\n",
    "    return df"
   ]
  },
  {
   "cell_type": "markdown",
   "metadata": {},
   "source": [
    "### Variables Used\n",
    "- Annual Wages (past 12 months) (WAGP)\n",
    "- White, or other combination (used for 'Minority Status') (RACWHT)"
   ]
  },
  {
   "cell_type": "code",
   "execution_count": 51,
   "metadata": {},
   "outputs": [],
   "source": [
    "mean_wage = get_dataframe()"
   ]
  },
  {
   "cell_type": "code",
   "execution_count": 52,
   "metadata": {},
   "outputs": [],
   "source": [
    "from pyspark.sql.functions import avg\n",
    "from pyspark.sql.functions import percentile_approx"
   ]
  },
  {
   "cell_type": "code",
   "execution_count": 53,
   "metadata": {},
   "outputs": [],
   "source": [
    "df = get_dataframe()\n",
    "mean_wage = (df\n",
    "    .groupBy(df['ST'],df['RACWHT'])\n",
    "    .agg(\n",
    "        avg('WAGP').alias('avg_salary'),\n",
    "        percentile_approx(\"WAGP\", 0.5,accuracy=10000).alias('median')\n",
    "    )\n",
    "    .toPandas())"
   ]
  },
  {
   "cell_type": "code",
   "execution_count": 75,
   "metadata": {},
   "outputs": [],
   "source": [
    "# STATE_MAPS makes this more readable\n",
    "from imports import STATE_MAPS\n",
    "mean_wage['ST'] = mean_wage['ST'].replace(STATE_MAPS)\n",
    "mean_wage['avg_salary'] = mean_wage['avg_salary'].round(0)\n",
    "\n",
    "def div_list(list):\n",
    "    return round(list[1]/list[0]*100,2)\n",
    "# Adding percent that minority's income is of non-minority\n",
    "mean_wage['discrepency'] = mean_wage['ST'].apply(\n",
    "    lambda x: div_list(mean_wage.loc[mean_wage['ST'] == x]['avg_salary'].tolist()))\n",
    "mean_wage = (mean_wage\n",
    "    .sort_values(by=['ST','discrepency','avg_salary'],ascending=False)\n",
    "    .reset_index(drop=True))"
   ]
  },
  {
   "cell_type": "code",
   "execution_count": 76,
   "metadata": {},
   "outputs": [
    {
     "data": {
      "text/html": [
       "<div>\n",
       "<style scoped>\n",
       "    .dataframe tbody tr th:only-of-type {\n",
       "        vertical-align: middle;\n",
       "    }\n",
       "\n",
       "    .dataframe tbody tr th {\n",
       "        vertical-align: top;\n",
       "    }\n",
       "\n",
       "    .dataframe thead th {\n",
       "        text-align: right;\n",
       "    }\n",
       "</style>\n",
       "<table border=\"1\" class=\"dataframe\">\n",
       "  <thead>\n",
       "    <tr style=\"text-align: right;\">\n",
       "      <th></th>\n",
       "      <th>ST</th>\n",
       "      <th>RACWHT</th>\n",
       "      <th>avg_salary</th>\n",
       "      <th>median</th>\n",
       "      <th>discrepency</th>\n",
       "    </tr>\n",
       "  </thead>\n",
       "  <tbody>\n",
       "    <tr>\n",
       "      <th>0</th>\n",
       "      <td>Wyoming</td>\n",
       "      <td>1</td>\n",
       "      <td>23723.0</td>\n",
       "      <td>12000</td>\n",
       "      <td>74.87</td>\n",
       "    </tr>\n",
       "    <tr>\n",
       "      <th>1</th>\n",
       "      <td>Wyoming</td>\n",
       "      <td>0</td>\n",
       "      <td>17761.0</td>\n",
       "      <td>9600</td>\n",
       "      <td>74.87</td>\n",
       "    </tr>\n",
       "    <tr>\n",
       "      <th>2</th>\n",
       "      <td>Wisconsin</td>\n",
       "      <td>1</td>\n",
       "      <td>23227.0</td>\n",
       "      <td>12000</td>\n",
       "      <td>74.17</td>\n",
       "    </tr>\n",
       "    <tr>\n",
       "      <th>3</th>\n",
       "      <td>Wisconsin</td>\n",
       "      <td>0</td>\n",
       "      <td>17227.0</td>\n",
       "      <td>5900</td>\n",
       "      <td>74.17</td>\n",
       "    </tr>\n",
       "    <tr>\n",
       "      <th>4</th>\n",
       "      <td>West Virginia</td>\n",
       "      <td>1</td>\n",
       "      <td>16505.0</td>\n",
       "      <td>1700</td>\n",
       "      <td>95.52</td>\n",
       "    </tr>\n",
       "    <tr>\n",
       "      <th>5</th>\n",
       "      <td>West Virginia</td>\n",
       "      <td>0</td>\n",
       "      <td>15766.0</td>\n",
       "      <td>2500</td>\n",
       "      <td>95.52</td>\n",
       "    </tr>\n",
       "    <tr>\n",
       "      <th>6</th>\n",
       "      <td>Washington</td>\n",
       "      <td>1</td>\n",
       "      <td>26668.0</td>\n",
       "      <td>10400</td>\n",
       "      <td>87.92</td>\n",
       "    </tr>\n",
       "    <tr>\n",
       "      <th>7</th>\n",
       "      <td>Washington</td>\n",
       "      <td>0</td>\n",
       "      <td>23446.0</td>\n",
       "      <td>12000</td>\n",
       "      <td>87.92</td>\n",
       "    </tr>\n",
       "    <tr>\n",
       "      <th>8</th>\n",
       "      <td>Virginia</td>\n",
       "      <td>1</td>\n",
       "      <td>31894.0</td>\n",
       "      <td>15000</td>\n",
       "      <td>74.52</td>\n",
       "    </tr>\n",
       "    <tr>\n",
       "      <th>9</th>\n",
       "      <td>Virginia</td>\n",
       "      <td>0</td>\n",
       "      <td>23767.0</td>\n",
       "      <td>13000</td>\n",
       "      <td>74.52</td>\n",
       "    </tr>\n",
       "  </tbody>\n",
       "</table>\n",
       "</div>"
      ],
      "text/plain": [
       "              ST  RACWHT  avg_salary  median  discrepency\n",
       "0        Wyoming       1     23723.0   12000        74.87\n",
       "1        Wyoming       0     17761.0    9600        74.87\n",
       "2      Wisconsin       1     23227.0   12000        74.17\n",
       "3      Wisconsin       0     17227.0    5900        74.17\n",
       "4  West Virginia       1     16505.0    1700        95.52\n",
       "5  West Virginia       0     15766.0    2500        95.52\n",
       "6     Washington       1     26668.0   10400        87.92\n",
       "7     Washington       0     23446.0   12000        87.92\n",
       "8       Virginia       1     31894.0   15000        74.52\n",
       "9       Virginia       0     23767.0   13000        74.52"
      ]
     },
     "execution_count": 76,
     "metadata": {},
     "output_type": "execute_result"
    }
   ],
   "source": [
    "mean_wage.head(10)"
   ]
  },
  {
   "cell_type": "code",
   "execution_count": 10,
   "metadata": {},
   "outputs": [],
   "source": [
    "import seaborn as sns, matplotlib.pyplot as plt"
   ]
  },
  {
   "cell_type": "code",
   "execution_count": 48,
   "metadata": {},
   "outputs": [
    {
     "data": {
      "image/png": "[encoded data removed]",
      "text/plain": [
       "<Figure size 432x288 with 1 Axes>"
      ]
     },
     "metadata": {
      "needs_background": "light"
     },
     "output_type": "display_data"
    }
   ],
   "source": [
    "mean_plt = sns.barplot(x='ST',y='avg_salary',data=mean_wage.head(10), hue='RACWHT').set(title='Mean Wages')\n",
    "plt.ylabel('Average Salary')\n",
    "plt.xlabel('State')\n",
    "plt.legend(labelcolor=['tab:blue','tab:orange'],title='Minority:',labels=['Yes','No'])\n",
    "plt.show()"
   ]
  },
  {
   "cell_type": "code",
   "execution_count": 47,
   "metadata": {},
   "outputs": [
    {
     "data": {
      "image/png": "[encoded data removed]",
      "text/plain": [
       "<Figure size 432x288 with 1 Axes>"
      ]
     },
     "metadata": {
      "needs_background": "light"
     },
     "output_type": "display_data"
    }
   ],
   "source": [
    "median_plt = sns.barplot(x='ST',y='median',data=mean_wage.head(10), hue='RACWHT').set(title='Median Wages')\n",
    "plt.ylabel('Median Salary')\n",
    "plt.xlabel('State')\n",
    "plt.legend(labelcolor=['tab:blue','tab:orange'],title='Minority:',labels=['Yes','No'],)\n",
    "plt.show()"
   ]
  }
 ],
 "metadata": {
  "interpreter": {
   "hash": "0f4edc6b0df042bd222e688c4ca60d9fd61be33111ddbab03640233823416510"
  },
  "kernelspec": {
   "display_name": "Python 3.10.4 ('Spark': venv)",
   "language": "python",
   "name": "python3"
  },
  "language_info": {
   "codemirror_mode": {
    "name": "ipython",
    "version": 3
   },
   "file_extension": ".py",
   "mimetype": "text/x-python",
   "name": "python",
   "nbconvert_exporter": "python",
   "pygments_lexer": "ipython3",
   "version": "3.10.4"
  },
  "orig_nbformat": 4
 },
 "nbformat": 4,
 "nbformat_minor": 2
}
